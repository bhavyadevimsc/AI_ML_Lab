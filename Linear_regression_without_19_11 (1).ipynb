{
 "cells": [
  {
   "cell_type": "code",
   "execution_count": 2,
   "id": "1b2422d7-401d-41b4-9f9c-1fa51f826be7",
   "metadata": {},
   "outputs": [
    {
     "name": "stdout",
     "output_type": "stream",
     "text": [
      "Slope (m): 118.29495955196018\n",
      "Intercept (b): 257056.62725575606\n",
      "Predictions: [564623.5220908525, 611941.5059116366, 635600.4978220286, 682918.4816428127, 730236.4654635967, 564623.5220908525, 588282.5140012446, 647429.9937772246, 682918.4816428127, 564623.5220908525, 600112.0099564407, 623771.0018668326, 682918.4816428127]\n",
      "Mean Squared Error: 403506294.57661194\n"
     ]
    }
   ],
   "source": [
    "import csv\n",
    "\n",
    "def linear_regression(x, y):\n",
    "    n = len(x)\n",
    "    sum_x = sum(x)\n",
    "    sum_y = sum(y)\n",
    "    sum_xy = sum(x_i * y_i for x_i, y_i in zip(x, y))\n",
    "    sum_x2 = sum(x_i**2 for x_i in x)\n",
    "\n",
    "    # Slope (m) and Intercept (b)\n",
    "    m = (n * sum_xy - sum_x * sum_y) / (n * sum_x2 - sum_x**2)\n",
    "    b = (sum_y - m * sum_x) / n\n",
    "    return m, b\n",
    "\n",
    "def predict(x, m, b):\n",
    "    return [m * x_i + b for x_i in x]\n",
    "\n",
    "def mean_squared_error(y_true, y_pred):\n",
    "    return sum((y_t - y_p)**2 for y_t, y_p in zip(y_true, y_pred)) / len(y_true)\n",
    "\n",
    "# Load real dataset from CSV\n",
    "def load_dataset(filepath):\n",
    "    x, y = [], []\n",
    "    with open(filepath, 'r') as file:\n",
    "        reader = csv.reader(file)\n",
    "        next(reader)  # Skip header row if any\n",
    "        for row in reader:\n",
    "            x.append(float(row[0]))  # Years of Experience\n",
    "            y.append(float(row[1]))  # Salary\n",
    "    return x, y\n",
    "\n",
    "dataset_path = \"homeprices (1).csv\"\n",
    "x, y = load_dataset(dataset_path)\n",
    "\n",
    "# Train the model\n",
    "m, b = linear_regression(x, y)\n",
    "print(f\"Slope (m): {m}\")\n",
    "print(f\"Intercept (b): {b}\")\n",
    "\n",
    "# Predict\n",
    "predictions = predict(x, m, b)\n",
    "print(f\"Predictions: {predictions}\")\n",
    "\n",
    "# Evaluate\n",
    "mse = mean_squared_error(y, predictions)\n",
    "print(f\"Mean Squared Error: {mse}\")\n"
   ]
  },
  {
   "cell_type": "code",
   "execution_count": null,
   "id": "019f7168-bb28-4cc0-ae17-df3ea1e71533",
   "metadata": {},
   "outputs": [],
   "source": []
  }
 ],
 "metadata": {
  "kernelspec": {
   "display_name": "Python 3 (ipykernel)",
   "language": "python",
   "name": "python3"
  },
  "language_info": {
   "codemirror_mode": {
    "name": "ipython",
    "version": 3
   },
   "file_extension": ".py",
   "mimetype": "text/x-python",
   "name": "python",
   "nbconvert_exporter": "python",
   "pygments_lexer": "ipython3",
   "version": "3.12.4"
  }
 },
 "nbformat": 4,
 "nbformat_minor": 5
}
