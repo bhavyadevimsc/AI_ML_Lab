{
 "cells": [
  {
   "cell_type": "code",
   "execution_count": 33,
   "id": "5b187cc1-cd64-4f15-86f4-b3e0be751bae",
   "metadata": {
    "scrolled": true
   },
   "outputs": [
    {
     "name": "stdout",
     "output_type": "stream",
     "text": [
      "[[1 2 3]\n",
      " [1 1 4]\n",
      " [5 2 4]]\n",
      "The Mean of a matrix is: 2.5555555555555554\n",
      "The median of a matrix is: 2.0\n",
      "The mode of a matrix is: ModeResult(mode=array([1, 2, 4], dtype=int64), count=array([2, 2, 2], dtype=int64))\n",
      "The transpose of a matrix is: [[1 1 5]\n",
      " [2 1 2]\n",
      " [3 4 4]]\n"
     ]
    }
   ],
   "source": [
    "import numpy as np\n",
    "from scipy import stats\n",
    "matrix=np.array([[1,2,3],[1,1,4],[5,2,4]])\n",
    "print(matrix)\n",
    "mean=np.mean(matrix)\n",
    "median=np.median(matrix)\n",
    "print (\"The Mean of a matrix is:\",mean)\n",
    "print (\"The median of a matrix is:\",median)\n",
    "mode=stats.mode(matrix,axis=0)\n",
    "print (\"The mode of a matrix is:\",mode)\n",
    "transpose=np.transpose(matrix)\n",
    "print (\"The transpose of a matrix is:\",transpose)"
   ]
  },
  {
   "cell_type": "code",
   "execution_count": 34,
   "id": "a30eb1bf-595f-4432-b9d4-74fc85ef2166",
   "metadata": {},
   "outputs": [
    {
     "name": "stdout",
     "output_type": "stream",
     "text": [
      "original matrix: [[1 2 3]\n",
      " [1 1 4]\n",
      " [5 2 4]]\n",
      "Inverse of matrix is: [[-0.21052632 -0.10526316  0.26315789]\n",
      " [ 0.84210526 -0.57894737 -0.05263158]\n",
      " [-0.15789474  0.42105263 -0.05263158]]\n"
     ]
    }
   ],
   "source": [
    "print(\"original matrix:\",matrix)\n",
    "inverse_matrix= np.linalg.inv(matrix)\n",
    "print(\"Inverse of matrix is:\",inverse_matrix)"
   ]
  },
  {
   "cell_type": "code",
   "execution_count": 35,
   "id": "433a3837-f0f6-4178-ae74-b65a4132239f",
   "metadata": {},
   "outputs": [
    {
     "name": "stdout",
     "output_type": "stream",
     "text": [
      "original matrix: [[1 2 3]\n",
      " [1 1 4]\n",
      " [5 2 4]]\n",
      "Determinant of matrix: 18.999999999999996\n"
     ]
    }
   ],
   "source": [
    "print(\"original matrix:\",matrix)\n",
    "det_A = np.linalg.det(matrix)\n",
    "print(\"Determinant of matrix:\", det_A)"
   ]
  },
  {
   "cell_type": "code",
   "execution_count": null,
   "id": "3be9af44-ec88-456c-9c48-9e4750a4928c",
   "metadata": {},
   "outputs": [],
   "source": [
    "https://byjus.com/maths/inverse-matrix/     #inverse matrix reference"
   ]
  },
  {
   "cell_type": "code",
   "execution_count": null,
   "id": "36f21c89-2f8f-4743-96a1-93c1acf9000e",
   "metadata": {},
   "outputs": [],
   "source": []
  }
 ],
 "metadata": {
  "kernelspec": {
   "display_name": "Python 3 (ipykernel)",
   "language": "python",
   "name": "python3"
  },
  "language_info": {
   "codemirror_mode": {
    "name": "ipython",
    "version": 3
   },
   "file_extension": ".py",
   "mimetype": "text/x-python",
   "name": "python",
   "nbconvert_exporter": "python",
   "pygments_lexer": "ipython3",
   "version": "3.12.4"
  }
 },
 "nbformat": 4,
 "nbformat_minor": 5
}
